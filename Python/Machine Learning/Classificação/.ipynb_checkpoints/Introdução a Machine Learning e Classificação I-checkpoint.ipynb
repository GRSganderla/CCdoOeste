{
 "cells": [
  {
   "cell_type": "code",
   "execution_count": 2,
   "metadata": {},
   "outputs": [],
   "source": [
    "# feature ou características (1 sim, 0 não)\n",
    "## pelo longo?\n",
    "## perna curta?\n",
    "## faz au-au?\n",
    "porco_1 = [0, 1, 0]\n",
    "porco_2 = [0, 1, 1]\n",
    "porco_3 = [1, 1, 0]\n",
    "\n",
    "cachorro_1 = [0, 1, 1]\n",
    "cachorro_2 = [1, 0, 1]\n",
    "cachorro_3 = [1, 1, 1]\n",
    "\n",
    "# 1 -> porco, 0 -> cachorro\n",
    "dados = [porco_1, porco_2, porco_3, cachorro_1, cachorro_2, cachorro_3]\n",
    "classes = [1, 1, 1, 0, 0, 0]"
   ]
  },
  {
   "cell_type": "code",
   "execution_count": 3,
   "metadata": {},
   "outputs": [
    {
     "data": {
      "text/plain": [
       "LinearSVC(C=1.0, class_weight=None, dual=True, fit_intercept=True,\n",
       "     intercept_scaling=1, loss='squared_hinge', max_iter=1000,\n",
       "     multi_class='ovr', penalty='l2', random_state=None, tol=0.0001,\n",
       "     verbose=0)"
      ]
     },
     "execution_count": 3,
     "metadata": {},
     "output_type": "execute_result"
    }
   ],
   "source": [
    "from sklearn.svm import LinearSVC as lsvc\n",
    "\n",
    "modelo = lsvc()\n",
    "modelo.fit(dados, classes)"
   ]
  },
  {
   "cell_type": "code",
   "execution_count": 4,
   "metadata": {},
   "outputs": [
    {
     "data": {
      "text/plain": [
       "array([0])"
      ]
     },
     "execution_count": 4,
     "metadata": {},
     "output_type": "execute_result"
    }
   ],
   "source": [
    "animal_misterioso = [1, 1, 1]\n",
    "modelo.predict([animal_misterioso])"
   ]
  },
  {
   "cell_type": "code",
   "execution_count": 7,
   "metadata": {},
   "outputs": [],
   "source": [
    "misterios = [[ 1, 1, 1], [1, 1, 0], [0, 1, 1]]\n",
    "\n",
    "previsoes = modelo.predict(misterios)"
   ]
  },
  {
   "cell_type": "code",
   "execution_count": null,
   "metadata": {},
   "outputs": [],
   "source": [
    "classe_misterios = [0, 1, 1]\n",
    "\n",
    "corretos = (previsoes == classe_misterios).sum()\n",
    "total = len(misterios)\n",
    "taxa_acerto = correto/total\n",
    "print(f'Taxa de acerto -> {taxa_acerto*100}')"
   ]
  }
 ],
 "metadata": {
  "kernelspec": {
   "display_name": "Python 3",
   "language": "python",
   "name": "python3"
  },
  "language_info": {
   "codemirror_mode": {
    "name": "ipython",
    "version": 3
   },
   "file_extension": ".py",
   "mimetype": "text/x-python",
   "name": "python",
   "nbconvert_exporter": "python",
   "pygments_lexer": "ipython3",
   "version": "3.7.3"
  }
 },
 "nbformat": 4,
 "nbformat_minor": 2
}
