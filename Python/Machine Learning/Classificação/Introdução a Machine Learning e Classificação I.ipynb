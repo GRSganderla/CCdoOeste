{
 "cells": [
  {
   "cell_type": "code",
   "execution_count": 5,
   "metadata": {},
   "outputs": [],
   "source": [
    "# feature ou características (1 sim, 0 não)\n",
    "## pelo longo?\n",
    "## perna curta?\n",
    "## faz au-au?\n",
    "porco_1 = [0, 1, 0]\n",
    "porco_2 = [0, 1, 1]\n",
    "porco_3 = [1, 1, 0]\n",
    "\n",
    "cachorro_1 = [0, 1, 1]\n",
    "cachorro_2 = [1, 0, 1]\n",
    "cachorro_3 = [1, 1, 1]\n",
    "\n",
    "# 1 -> porco, 0 -> cachorro\n",
    "treino_x = [porco_1, porco_2, porco_3, cachorro_1, cachorro_2, cachorro_3]\n",
    "treino_y = [1, 1, 1, 0, 0, 0] # classe ou labels/etiqueta"
   ]
  },
  {
   "cell_type": "markdown",
   "metadata": {},
   "source": [
    "## A predição que o modelo faz é tipo uma função f(x) = y, f seria a função, x é o conjunto de dados e y é a classe que é retornada"
   ]
  },
  {
   "cell_type": "code",
   "execution_count": 6,
   "metadata": {},
   "outputs": [
    {
     "data": {
      "text/plain": [
       "LinearSVC(C=1.0, class_weight=None, dual=True, fit_intercept=True,\n",
       "     intercept_scaling=1, loss='squared_hinge', max_iter=1000,\n",
       "     multi_class='ovr', penalty='l2', random_state=None, tol=0.0001,\n",
       "     verbose=0)"
      ]
     },
     "execution_count": 6,
     "metadata": {},
     "output_type": "execute_result"
    }
   ],
   "source": [
    "from sklearn.svm import LinearSVC as lsvc\n",
    "\n",
    "modelo = lsvc()\n",
    "modelo.fit(treino_x, treino_y)"
   ]
  },
  {
   "cell_type": "code",
   "execution_count": 7,
   "metadata": {},
   "outputs": [
    {
     "data": {
      "text/plain": [
       "array([0])"
      ]
     },
     "execution_count": 7,
     "metadata": {},
     "output_type": "execute_result"
    }
   ],
   "source": [
    "animal_misterioso = [1, 1, 1]\n",
    "modelo.predict([animal_misterioso])"
   ]
  },
  {
   "cell_type": "code",
   "execution_count": 8,
   "metadata": {},
   "outputs": [],
   "source": [
    "teste_x = [[ 1, 1, 1], [1, 1, 0], [0, 1, 1]]\n",
    "teste_y = [0, 1, 1]"
   ]
  },
  {
   "cell_type": "code",
   "execution_count": 9,
   "metadata": {},
   "outputs": [
    {
     "name": "stdout",
     "output_type": "stream",
     "text": [
      "Taxa de acerto -> 66.66666666666666\n"
     ]
    }
   ],
   "source": [
    "previsoes = modelo.predict(teste_x)\n",
    "\n",
    "corretos = (previsoes == teste_y).sum()\n",
    "total = len(teste_x)\n",
    "taxa_acerto = corretos/total\n",
    "print(f'Taxa de acerto -> {taxa_acerto*100}')"
   ]
  },
  {
   "cell_type": "code",
   "execution_count": 12,
   "metadata": {},
   "outputs": [
    {
     "name": "stdout",
     "output_type": "stream",
     "text": [
      "Taxa de acerto -> 66.67\n"
     ]
    }
   ],
   "source": [
    "from sklearn.metrics import accuracy_score as accuracy\n",
    "\n",
    "taxa_acerto_real = accuracy(teste_y, previsoes)\n",
    "print(f'Taxa de acerto -> {taxa_acerto_real*100 :.2f}')"
   ]
  }
 ],
 "metadata": {
  "kernelspec": {
   "display_name": "Python 3",
   "language": "python",
   "name": "python3"
  },
  "language_info": {
   "codemirror_mode": {
    "name": "ipython",
    "version": 3
   },
   "file_extension": ".py",
   "mimetype": "text/x-python",
   "name": "python",
   "nbconvert_exporter": "python",
   "pygments_lexer": "ipython3",
   "version": "3.8.2"
  }
 },
 "nbformat": 4,
 "nbformat_minor": 2
}
